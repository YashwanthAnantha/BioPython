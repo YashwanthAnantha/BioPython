{
  "nbformat": 4,
  "nbformat_minor": 0,
  "metadata": {
    "colab": {
      "name": "BioPython.ipynb",
      "provenance": [],
      "include_colab_link": true
    },
    "kernelspec": {
      "name": "python3",
      "display_name": "Python 3"
    }
  },
  "cells": [
    {
      "cell_type": "markdown",
      "metadata": {
        "id": "view-in-github",
        "colab_type": "text"
      },
      "source": [
        "<a href=\"https://colab.research.google.com/github/YashwanthAnantha/BioPython/blob/main/BioPython.ipynb\" target=\"_parent\"><img src=\"https://colab.research.google.com/assets/colab-badge.svg\" alt=\"Open In Colab\"/></a>"
      ]
    },
    {
      "cell_type": "code",
      "metadata": {
        "colab": {
          "base_uri": "https://localhost:8080/"
        },
        "id": "s2upX26pNNXG",
        "outputId": "24353713-f06e-4512-dbd8-db4ea7ff9106"
      },
      "source": [
        "#STORING STRINGS IN VARIABLES\n",
        "# store a short DNA sequence in the variable my_dna\n",
        "my_dna = \"ATGCGTA\"\n",
        "# store a short DNA sequence in the variable my_dna\n",
        "my_dna = \"ATGCGTA\"\n",
        "\n",
        "# now print the DNA sequence\n",
        "print(my_dna)"
      ],
      "execution_count": null,
      "outputs": [
        {
          "output_type": "stream",
          "text": [
            "ATGCGTA\n"
          ],
          "name": "stdout"
        }
      ]
    },
    {
      "cell_type": "code",
      "metadata": {
        "id": "So3_InpHHJAw"
      },
      "source": [
        ""
      ],
      "execution_count": null,
      "outputs": []
    },
    {
      "cell_type": "code",
      "metadata": {
        "colab": {
          "base_uri": "https://localhost:8080/"
        },
        "id": "qJHNYlBoNVq-",
        "outputId": "0d3eddd3-bded-4220-e776-51afc6b80f97"
      },
      "source": [
        "#We can change the value of a variable as many times as we like once we've created it:\n",
        "my_dna = \"ATGCGTA\"\n",
        "print(my_dna)\n",
        "\n",
        "# change the value of my_dna\n",
        "my_dna = \"TGGTCCA\""
      ],
      "execution_count": null,
      "outputs": [
        {
          "output_type": "stream",
          "text": [
            "ATGCGTA\n"
          ],
          "name": "stdout"
        }
      ]
    },
    {
      "cell_type": "code",
      "metadata": {
        "colab": {
          "base_uri": "https://localhost:8080/"
        },
        "id": "-u2wNIQoNp6P",
        "outputId": "95ca5190-3ec9-4c81-e6b3-2e6d355a4e60"
      },
      "source": [
        "#TOOLS FOR MANIPULATING STRINGS\n",
        "#CONCATENATION\n",
        "my_dna = \"AATT\" + \"GGCC\"\n",
        "print(my_dna)"
      ],
      "execution_count": null,
      "outputs": [
        {
          "output_type": "stream",
          "text": [
            "AATTGGCC\n"
          ],
          "name": "stdout"
        }
      ]
    },
    {
      "cell_type": "code",
      "metadata": {
        "id": "HxuCf_BBNu23"
      },
      "source": [
        "#In the above example, the things being concatenated were strings, but we can also use variables that point to strings:\n",
        "upstream = \"AAA\"\n",
        "my_dna = upstream + \"ATGC\"\n",
        "# my_dna is now \"AAAATGC\"\n",
        "#We can even join multiple strings together in one go:\n",
        "upstream = \"AAA\"\n",
        "downstream = \"GGG\"\n",
        "my_dna = upstream + \"ATGC\" + downstream\n",
        "# my_dna is now \"AAAATGCGGG\"\n"
      ],
      "execution_count": null,
      "outputs": []
    },
    {
      "cell_type": "code",
      "metadata": {
        "id": "LILa8Fc1ayMl"
      },
      "source": [
        ""
      ],
      "execution_count": null,
      "outputs": []
    },
    {
      "cell_type": "code",
      "metadata": {
        "colab": {
          "base_uri": "https://localhost:8080/"
        },
        "id": "yuuN514EOI4I",
        "outputId": "f4f288ae-e164-485f-af76-a1387517f445"
      },
      "source": [
        "#FINDING THE LENGTH OF A STRING\n",
        "# this line doesn't produce any output\n",
        "len(\"ATGC\")"
      ],
      "execution_count": null,
      "outputs": [
        {
          "output_type": "execute_result",
          "data": {
            "text/plain": [
              "4"
            ]
          },
          "metadata": {
            "tags": []
          },
          "execution_count": 21
        }
      ]
    },
    {
      "cell_type": "code",
      "metadata": {
        "id": "Ne3vWehcZJBl"
      },
      "source": [
        ""
      ],
      "execution_count": null,
      "outputs": []
    },
    {
      "cell_type": "code",
      "metadata": {
        "colab": {
          "base_uri": "https://localhost:8080/"
        },
        "id": "hUbRqEbCOTSB",
        "outputId": "2a467b30-04b8-401b-ca58-110bea4ee204"
      },
      "source": [
        "my_dna = \"ATGCGAGT\"\n",
        "dna_length = len(my_dna)\n",
        "\n",
        "print(\"The length of the DNA sequence is \" + str(dna_length))"
      ],
      "execution_count": null,
      "outputs": [
        {
          "output_type": "stream",
          "text": [
            "The length of the DNA sequence is 8\n"
          ],
          "name": "stdout"
        }
      ]
    },
    {
      "cell_type": "code",
      "metadata": {
        "colab": {
          "base_uri": "https://localhost:8080/"
        },
        "id": "7KIMfroLOXtE",
        "outputId": "0b56b3b9-0ba2-4419-c5e8-2087eb0e99c8"
      },
      "source": [
        "#CHANGING CASE\n",
        "my_dna = \"ATGC\"\n",
        "# print my_dna in lower case\n",
        "print(my_dna.lower())"
      ],
      "execution_count": null,
      "outputs": [
        {
          "output_type": "stream",
          "text": [
            "atgc\n"
          ],
          "name": "stdout"
        }
      ]
    },
    {
      "cell_type": "code",
      "metadata": {
        "colab": {
          "base_uri": "https://localhost:8080/"
        },
        "id": "et3xFQXVOm7c",
        "outputId": "20a712ab-2348-4fb6-cd19-0fa6d565e810"
      },
      "source": [
        "print(\"ATGC\")\n",
        "len(my_dna)"
      ],
      "execution_count": null,
      "outputs": [
        {
          "output_type": "stream",
          "text": [
            "ATGC\n"
          ],
          "name": "stdout"
        },
        {
          "output_type": "execute_result",
          "data": {
            "text/plain": [
              "4"
            ]
          },
          "metadata": {
            "tags": []
          },
          "execution_count": 24
        }
      ]
    },
    {
      "cell_type": "code",
      "metadata": {
        "colab": {
          "base_uri": "https://localhost:8080/"
        },
        "id": "_VGQINizOpOE",
        "outputId": "78200b25-63a3-4aa4-8e93-3f312bcaf255"
      },
      "source": [
        "#When we use a method, we write the name of the variable first, followed by a period, then the name of the method, then the method arguments in parentheses.\n",
        " For the example we're looking at here, lower(), there is no argument, but we still need to put the opening and closing parentheses.\n",
        "#It's important to notice that the lower() method does not actually change the variable; instead it returns a copy of the variable in lower case. \n",
        "We can prove that it works this way by printing the variable before and after running lower(). Here's the code to do so:\n",
        "my_dna = \"ATGC\"\n",
        "\n",
        "# print the variable\n",
        "print(\"before: \" + my_dna)\n",
        "\n",
        "# run the lower method and store the result\n",
        "lowercase_dna = my_dna.lower()\n",
        "\n",
        "# print the variable again\n",
        "print(\"after: \" + my_dna)"
      ],
      "execution_count": null,
      "outputs": [
        {
          "output_type": "stream",
          "text": [
            "before: ATGC\n",
            "after: ATGC\n"
          ],
          "name": "stdout"
        }
      ]
    },
    {
      "cell_type": "code",
      "metadata": {
        "colab": {
          "base_uri": "https://localhost:8080/"
        },
        "id": "rMJWsvYVO3uB",
        "outputId": "5a3964bb-92ff-4207-f58a-e8e3c4401fd0"
      },
      "source": [
        "#REPLACEMENT\n",
        "#Here's another example of a useful method that belongs to the string type: replace(). replace() is slightly different from anything we've seen before – it takes two arguments (both strings) and returns a copy of the variable where all occurrences of the first string are replaced by the second string. That's quite a long-winded description, so here are a few examples to make things clearer:\n",
        "protein = \"vlspadktnv\"\n",
        "\n",
        "# replace valine with tyrosine\n",
        "print(protein.replace(\"v\", \"y\"))\n",
        "\n",
        "# we can replace more than one character\n",
        "print(protein.replace(\"vls\", \"ymt\"))\n",
        "\n",
        "# the original variable is not affected\n",
        "print(protein)"
      ],
      "execution_count": null,
      "outputs": [
        {
          "output_type": "stream",
          "text": [
            "ylspadktny\n",
            "ymtpadktnv\n",
            "vlspadktnv\n"
          ],
          "name": "stdout"
        }
      ]
    },
    {
      "cell_type": "code",
      "metadata": {
        "colab": {
          "base_uri": "https://localhost:8080/"
        },
        "id": "vp2sQEDRPB4B",
        "outputId": "adeb151a-7e65-41a7-9822-51dac67bbba2"
      },
      "source": [
        "#EXTRACTING PART OF A STRING\n",
        "#What do we do if we have a long string, but we only want a short portion of it? This is known as taking a substring, and it has its own notation in Python. To get a substring, we follow the variable name with a pair of square brackets which enclose a start and stop position, separated by a colon. Again, this is probably easier to visualize with a couple of examples – let's reuse our protein sequence from before:\n",
        "protein = \"vlspadktnv\"\n",
        "\n",
        "# print positions three to five\n",
        "print(protein[3:5])\n",
        "\n",
        "# positions start at zero, not one\n",
        "print(protein[0:6])\n",
        "\n",
        "# if we miss out the last number, it goes to the end of the string\n",
        "print(protein[2:])"
      ],
      "execution_count": null,
      "outputs": [
        {
          "output_type": "stream",
          "text": [
            "pa\n",
            "vlspad\n",
            "spadktnv\n"
          ],
          "name": "stdout"
        }
      ]
    },
    {
      "cell_type": "code",
      "metadata": {
        "colab": {
          "base_uri": "https://localhost:8080/"
        },
        "id": "eXF4Zs5GPWB7",
        "outputId": "7039c8c6-46bc-4bbd-b546-3860c39b1418"
      },
      "source": [
        "#COUNTING AND FINDING SUBSTRINGS\n",
        "#A very common job in biology is to count the number of times some pattern occurs in a DNA or protein sequence. In computer programming terms, what that translates to is counting the number of times a substring occurs in a string. \n",
        "#The method that does the job is called count(). It takes a single argument whose type is string, and returns the number of times that the argument is found in the variable. The return type is a number, so be careful about how you use it!\n",
        "#Let's use our protein sequence one last time as an example. Remember that we have to use our old friend str() to turn the counts into strings so that we can print them.\n",
        "protein = \"vlspadktnv\"\n",
        "# count amino acid residues\n",
        "valine_count = protein.count('v')\n",
        "lsp_count = protein.count('lsp')\n",
        "tryptophan_count = protein.count('w')\n",
        "\n",
        "# now print the counts\n",
        "print(\"valines: \" + str(valine_count))\n",
        "print(\"lsp: \" + str(lsp_count))\n",
        "print(\"tryptophans: \" + str(tryptophan_count))"
      ],
      "execution_count": null,
      "outputs": [
        {
          "output_type": "stream",
          "text": [
            "valines: 2\n",
            "lsp: 1\n",
            "tryptophans: 0\n"
          ],
          "name": "stdout"
        }
      ]
    },
    {
      "cell_type": "code",
      "metadata": {
        "colab": {
          "base_uri": "https://localhost:8080/"
        },
        "id": "wHJkHZ2_Pz_B",
        "outputId": "a7994c63-c3a8-4817-8989-a68823ee938b"
      },
      "source": [
        "#A closely related problem to counting substrings is finding their location. What if instead of counting the number of proline residues in our protein sequence we want to know where they are? The find() method will give us the answer, at least for simple cases. find() takes a single string argument, just like count(), and returns a number which is the position at which that substring first appears in the string (in computing, we call that the index of the substring).\n",
        "#Remember that in Python we start counting from zero rather than one, so position 0 is the first character, position 4 is the fifth character, etc. A couple of examples:\n",
        "protein = \"vlspadktnv\" \n",
        "print(str(protein.find('p'))) \n",
        "print(str(protein.find('kt'))) \n",
        "print(str(protein.find('w')))"
      ],
      "execution_count": null,
      "outputs": [
        {
          "output_type": "stream",
          "text": [
            "3\n",
            "6\n",
            "-1\n"
          ],
          "name": "stdout"
        }
      ]
    },
    {
      "cell_type": "code",
      "metadata": {
        "colab": {
          "base_uri": "https://localhost:8080/"
        },
        "id": "rO4vlu-UQYl2",
        "outputId": "82f95ba4-ba4c-411f-a466-088c90d5476e"
      },
      "source": [
        "#USING OPEN TO READ A FILE\n",
        "my_file = open(\"dna.txt\")\n",
        "#A file object is a new type which we haven't encountered before, and it's a little more complicated than the string and number types that we saw in the previous section. With strings and numbers it was easy to understand what they represented – a single bit of text, or a single number. A file object, in contrast, represents something a bit less tangible – it represents a file on your computer's hard drive.\n",
        "#The way that we use file objects is a bit different to strings and numbers as well. If you glance back at the examples from the previous section you'll see that most of the time when we want to use a variable containing a string or number we just use the variable name:\n",
        "my_string = 'abcdefg'\n",
        "print(my_string)\n",
        "my_number = 42\n",
        "print(my_number + 1)"
      ],
      "execution_count": null,
      "outputs": [
        {
          "output_type": "stream",
          "text": [
            "abcdefg\n",
            "43\n"
          ],
          "name": "stdout"
        }
      ]
    },
    {
      "cell_type": "code",
      "metadata": {
        "colab": {
          "base_uri": "https://localhost:8080/"
        },
        "id": "Q9lwHoTzQqln",
        "outputId": "7c4bc406-b561-4e24-f5a6-3a3fa2d341d3"
      },
      "source": [
        "#In contrast, when we're working with file objects most of our interaction will be through methods. This style of programming will seem unusual at first, but as we'll see in this chapter, the file type has a well thought-out set of methods which let us do lots of useful things.\n",
        "#The first thing we need to be able to do is to read the contents of the file. The file type has a read() method which does this. It doesn't take any arguments, and the return value is a string, which we can store in a variable. Once we've read the file contents into a variable, we can treat them just like any other string – for example, we can print them:\n",
        "my_file = open(\"dna.txt\")\n",
        "file_contents = my_file.read()\n",
        "print(file_contents)\n"
      ],
      "execution_count": null,
      "outputs": [
        {
          "output_type": "stream",
          "text": [
            "ACTGTACGTGCACTGATC\n",
            "\n"
          ],
          "name": "stdout"
        }
      ]
    },
    {
      "cell_type": "code",
      "metadata": {
        "colab": {
          "base_uri": "https://localhost:8080/"
        },
        "id": "Ye61C7nCQv4N",
        "outputId": "99ea1eb8-14cd-4f0f-8182-723cf6b64f8e"
      },
      "source": [
        "#DEALING WITH NEWLINES\n",
        "# open the file\n",
        "my_file = open(\"dna.txt\")\n",
        "\n",
        "# read the contents\n",
        "my_dna = my_file.read()\n",
        "\n",
        "# calculate the length\n",
        "dna_length = len(my_dna)\n",
        "\n",
        "# print the output\n",
        "print(\"sequence is \" + my_dna +  \" and length is \" + str(dna_length))"
      ],
      "execution_count": null,
      "outputs": [
        {
          "output_type": "stream",
          "text": [
            "sequence is ACTGTACGTGCACTGATC\n",
            " and length is 19\n"
          ],
          "name": "stdout"
        }
      ]
    },
    {
      "cell_type": "code",
      "metadata": {
        "colab": {
          "base_uri": "https://localhost:8080/"
        },
        "id": "A2NWe7WASnPY",
        "outputId": "f992a566-07c9-424f-d214-acf85d286c0e"
      },
      "source": [
        "#WHY DO WE WANT TO WRITE OUR OWN FUNCTIONS?\n",
        "#Here's a piece of code which prints the AT content (the proportion of a DNA sequence which is either A or T) of a given DNA sequence:\n",
        "my_dna = \"ACTGATCGATTACGTATAGTATTTGCTATCATACATATATATCGATGCGTTCAT\" \n",
        "\n",
        "length = len(my_dna) \n",
        "a_count = my_dna.count('A') \n",
        "t_count = my_dna.count('T') \n",
        "at_content = (a_count + t_count) / length \n",
        "\n",
        "print(\"AT content is \" + str(at_content))\n"
      ],
      "execution_count": null,
      "outputs": [
        {
          "output_type": "stream",
          "text": [
            "AT content is 0.6851851851851852\n"
          ],
          "name": "stdout"
        }
      ]
    },
    {
      "cell_type": "code",
      "metadata": {
        "colab": {
          "base_uri": "https://localhost:8080/"
        },
        "id": "bLqGl4woTATj",
        "outputId": "0b276233-a6cb-4c26-ac79-f7d612a1480f"
      },
      "source": [
        "def get_at_content(dna): \n",
        "    length = len(dna) \n",
        "    a_count = dna.count('A')\n",
        "    t_count = dna.count('T') \n",
        "    at_content = (a_count + t_count) / length \n",
        "    return at_content \n",
        "\n",
        "print(a_count)"
      ],
      "execution_count": null,
      "outputs": [
        {
          "output_type": "stream",
          "text": [
            "16\n"
          ],
          "name": "stdout"
        }
      ]
    },
    {
      "cell_type": "code",
      "metadata": {
        "colab": {
          "base_uri": "https://localhost:8080/"
        },
        "id": "dO8ywhLmTFY2",
        "outputId": "f4718659-ddbf-4a8a-fc00-53afb8e8ed73"
      },
      "source": [
        "#CALLING AND IMPROVING OUR FUNCTION\n",
        "def get_at_content(dna): \n",
        "    ... \n",
        "\n",
        "my_at_content = get_at_content(\"ATGCGCGATCGATCGAATCG\")\n",
        "print(str(my_at_content))\n",
        "\n",
        "print(get_at_content(\"ATGCATGCAACTGTAGC\"))\n",
        "print(get_at_content(\"aactgtagctagctagcagcgta\"))"
      ],
      "execution_count": null,
      "outputs": [
        {
          "output_type": "stream",
          "text": [
            "None\n",
            "None\n",
            "None\n"
          ],
          "name": "stdout"
        }
      ]
    },
    {
      "cell_type": "code",
      "metadata": {
        "colab": {
          "base_uri": "https://localhost:8080/"
        },
        "id": "I2TgrLs2Tdkc",
        "outputId": "acb814fb-d1ca-4e6a-b750-2a14764e7481"
      },
      "source": [
        "#We can add a rounding step in order to limit the number of significant figures in the result. Python has a built in round() function that takes two arguments – the number we want to round, and the number of significant figures. We'll call the round() function on the result before we return it❶. And we can fix the lower case problem by converting the input sequence to uppercase❷ before starting the calculation. Here's the new version of the function, with the same three function calls:\n",
        "def get_at_content(dna): \n",
        "    length = len(dna) \n",
        "    a_count = dna.upper().count('A')\n",
        "    t_count = dna.upper().count('T') \n",
        "    at_content = (a_count + t_count) / length \n",
        "    return round(at_content, 2)\n",
        "\n",
        "my_at_content = get_at_content(\"ATGCGCGATCGATCGAATCG\")\n",
        "print(str(my_at_content))\n",
        "print(get_at_content(\"ATGCATGCAACTGTAGC\"))\n",
        "print(get_at_content(\"aactgtagctagctagcagcgta\"))"
      ],
      "execution_count": null,
      "outputs": [
        {
          "output_type": "stream",
          "text": [
            "0.45\n",
            "0.53\n",
            "0.52\n"
          ],
          "name": "stdout"
        }
      ]
    },
    {
      "cell_type": "code",
      "metadata": {
        "colab": {
          "base_uri": "https://localhost:8080/"
        },
        "id": "PKQDGhaFUeCK",
        "outputId": "105e0d6e-0b2d-4297-9cf9-e173174866cd"
      },
      "source": [
        "#CONDITIONS, TRUE AND FALSE\n",
        "#A condition is simply a bit of code that can produce a true or false answer. The easiest way to understand how conditions work in Python is to try out a few examples. The following example prints out the result of testing (or evaluating) a bunch of different conditions – some mathematical examples, some using string methods, and one for testing if a value is included in a list:\n",
        "print(3 == 5)\n",
        "print(3 > 5)\n",
        "print(3 <=5)\n",
        "print(len(\"ATGC\") > 5)\n",
        "print(\"GAATTC\".count(\"T\") > 1)\n",
        "print(\"ATGCTT\".startswith(\"ATG\"))\n",
        "print(\"ATGCTT\".endswith(\"TTT\"))\n",
        "print(\"ATGCTT\".isupper())\n",
        "print(\"ATGCTT\".islower())\n",
        "print(\"V\" in [\"V\", \"W\", \"L\"])"
      ],
      "execution_count": null,
      "outputs": [
        {
          "output_type": "stream",
          "text": [
            "False\n",
            "False\n",
            "True\n",
            "False\n",
            "True\n",
            "True\n",
            "False\n",
            "True\n",
            "False\n",
            "True\n"
          ],
          "name": "stdout"
        }
      ]
    },
    {
      "cell_type": "code",
      "metadata": {
        "colab": {
          "base_uri": "https://localhost:8080/"
        },
        "id": "cjibc6waU2QJ",
        "outputId": "f5980acb-59ce-49f0-c189-a13197c35673"
      },
      "source": [
        "#WRITING TRUE/FALSE FUNCTIONS\n",
        "\n",
        "#Sometimes we want to write a function that can be used in a condition. This is very easy to do – we just make sure that our function always returns either True or False. Remember that True and False are built in values in Python, so they can be passed around, stored in variables, and returned, just like numbers or strings.\n",
        "#Here's a function that determines whether or not a DNA sequence is AT-rich (we'll say that a sequence is AT-rich if it has an AT content of more than 0.65):\n",
        "def is_at_rich(dna): \n",
        "    length = len(dna) \n",
        "    a_count = dna.upper().count('A') \n",
        "    t_count = dna.upper().count('T') \n",
        "    at_content = (a_count + t_count) / length \n",
        "    if at_content > 0.65:\n",
        "        return True\n",
        "    else:\n",
        "        return False\n",
        "print(is_at_rich(\"ATTATCTACTA\"))\n",
        "print(is_at_rich(\"CGGCAGCGCT\"))"
      ],
      "execution_count": null,
      "outputs": [
        {
          "output_type": "stream",
          "text": [
            "True\n",
            "False\n"
          ],
          "name": "stdout"
        }
      ]
    },
    {
      "cell_type": "code",
      "metadata": {
        "colab": {
          "base_uri": "https://localhost:8080/"
        },
        "id": "1agpIeYPWLdy",
        "outputId": "d4982cf6-1f0d-4d8d-bc0c-27abe4ba81c6"
      },
      "source": [
        "\n",
        "\n",
        "dna = \"ATCGCGYAATTCAC\"\n",
        "\n",
        "if re.search(r\"[^ATGC]\", dna):\n",
        "    print(\"ambiguous base found!\")"
      ],
      "execution_count": null,
      "outputs": [
        {
          "output_type": "stream",
          "text": [
            "ambiguous base found!\n"
          ],
          "name": "stdout"
        }
      ]
    },
    {
      "cell_type": "code",
      "metadata": {
        "colab": {
          "base_uri": "https://localhost:8080/",
          "height": 229
        },
        "id": "2NBtnYt8WhBa",
        "outputId": "93346dfb-0165-4e59-aca5-bb794d6dfb94"
      },
      "source": [
        "dna = \"CGATNCGGAACGATC\"\n",
        "m = re.search(r\"[^ATGC]\", dna)\n",
        "\n",
        "# m is now a match object\n",
        "if m:\n",
        "    print(\"ambiguous base found!\")\n",
        "    ambig = m.group()\n",
        "    print(\"the base is \" + ambig)\n",
        "    "
      ],
      "execution_count": null,
      "outputs": [
        {
          "output_type": "error",
          "ename": "NameError",
          "evalue": "ignored",
          "traceback": [
            "\u001b[0;31m---------------------------------------------------------------------------\u001b[0m",
            "\u001b[0;31mNameError\u001b[0m                                 Traceback (most recent call last)",
            "\u001b[0;32m<ipython-input-1-8432ba4af4b0>\u001b[0m in \u001b[0;36m<module>\u001b[0;34m()\u001b[0m\n\u001b[1;32m      1\u001b[0m \u001b[0mdna\u001b[0m \u001b[0;34m=\u001b[0m \u001b[0;34m\"CGATNCGGAACGATC\"\u001b[0m\u001b[0;34m\u001b[0m\u001b[0;34m\u001b[0m\u001b[0m\n\u001b[0;32m----> 2\u001b[0;31m \u001b[0mm\u001b[0m \u001b[0;34m=\u001b[0m \u001b[0mre\u001b[0m\u001b[0;34m.\u001b[0m\u001b[0msearch\u001b[0m\u001b[0;34m(\u001b[0m\u001b[0;34mr\"[^ATGC]\"\u001b[0m\u001b[0;34m,\u001b[0m \u001b[0mdna\u001b[0m\u001b[0;34m)\u001b[0m\u001b[0;34m\u001b[0m\u001b[0;34m\u001b[0m\u001b[0m\n\u001b[0m\u001b[1;32m      3\u001b[0m \u001b[0;34m\u001b[0m\u001b[0m\n\u001b[1;32m      4\u001b[0m \u001b[0;31m# m is now a match object\u001b[0m\u001b[0;34m\u001b[0m\u001b[0;34m\u001b[0m\u001b[0;34m\u001b[0m\u001b[0m\n\u001b[1;32m      5\u001b[0m \u001b[0;32mif\u001b[0m \u001b[0mm\u001b[0m\u001b[0;34m:\u001b[0m\u001b[0;34m\u001b[0m\u001b[0;34m\u001b[0m\u001b[0m\n",
            "\u001b[0;31mNameError\u001b[0m: name 're' is not defined"
          ]
        }
      ]
    },
    {
      "cell_type": "code",
      "metadata": {
        "colab": {
          "base_uri": "https://localhost:8080/"
        },
        "id": "hh1PZOwZWmXQ",
        "outputId": "3fa55b91-f646-4aef-87b9-a6e6f8ae5f35"
      },
      "source": [
        "scientific_name = \"Homo sapiens\" \n",
        "\n",
        "m = re.search(\"(.+) (.+)\", scientific_name) \n",
        "\n",
        "if m: \n",
        "    genus = m.group(1) \n",
        "    species = m.group(2) \n",
        "    print(\"genus is \" + genus + \", species is \" + species)"
      ],
      "execution_count": null,
      "outputs": [
        {
          "output_type": "stream",
          "text": [
            "genus is Homo, species is sapiens\n"
          ],
          "name": "stdout"
        }
      ]
    },
    {
      "cell_type": "code",
      "metadata": {
        "colab": {
          "base_uri": "https://localhost:8080/"
        },
        "id": "0bUDTm6yWn_0",
        "outputId": "e2a2ba4c-51eb-4631-9b9c-e54fd8e2810b"
      },
      "source": [
        "#GETTING MATCH POSITIONS\n",
        "#As well as containing information about the contents of a match, the match object also holds information about the position of the match. The start() and end() methods get the positions of the start and end of the pattern on the string. Let's go back to our ambiguous base example and find the position of the ambiguous base:\n",
        "dna = \"CGATNCGGAACGATC\" \n",
        "m = re.search(r\"[^ATGC]\", dna) \n",
        "\n",
        "if m: \n",
        "    print(\"ambiguous base found!\") \n",
        "    print(\"at position \" + str(m.start()))"
      ],
      "execution_count": null,
      "outputs": [
        {
          "output_type": "stream",
          "text": [
            "ambiguous base found!\n",
            "at position 4\n"
          ],
          "name": "stdout"
        }
      ]
    },
    {
      "cell_type": "code",
      "metadata": {
        "colab": {
          "base_uri": "https://localhost:8080/"
        },
        "id": "BZfoytPUWzwA",
        "outputId": "2371ab0d-3601-47aa-cd08-3ce90b48c858"
      },
      "source": [
        "#MULTIPLE MATCHES\n",
        "#An obvious limitation of the above example is that it can only find a single ambiguous base, because re.search() can only find a single match. To process multiple matches, we need to switch to re.finditer(), which returns a list of match objects which we can process in a loop:\n",
        "dna = \"CGCTCNTAGATGCGCRATGACTGCAYTGC\" \n",
        "\n",
        "matches = re.finditer(r\"[^ATGC]\", dna) \n",
        "for m in matches: \n",
        "    base = m.group() \n",
        "    pos  = m.start() \n",
        "    print(base + \" found at position \" + str(pos))"
      ],
      "execution_count": null,
      "outputs": [
        {
          "output_type": "stream",
          "text": [
            "N found at position 5\n",
            "R found at position 15\n",
            "Y found at position 25\n"
          ],
          "name": "stdout"
        }
      ]
    },
    {
      "cell_type": "code",
      "metadata": {
        "colab": {
          "base_uri": "https://localhost:8080/"
        },
        "id": "XFdMlfocW7at",
        "outputId": "40d04cc4-495c-4a2e-9856-5db1160be091"
      },
      "source": [
        "#GETTING MULTIPLE MATCHES AS STRINGS\n",
        "#A common scenario is where we want to get a list of all the parts of a string that match a given pattern. Here's a regular expression pattern that matches runs of A and T longer than five bases:\n",
        "#[AT]{6,}\n",
        "#Here's a DNA sequence with the bits that we want to extract in bold:\n",
        "#ACTGCATTATATCGTACGAAATTATACGCGCG\n",
        "#We could extract the bits of the string that match the pattern using re.finditer() and group():\n",
        "\n",
        "dna = \"CTGCATTATATCGTACGAAATTATACGCGCG\" \n",
        "\n",
        "matches = re.finditer(r\"[AT]{6,}\", dna) \n",
        "\n",
        "result = [] \n",
        "for m in matches: \n",
        "    result.append(m.group()) \n",
        "\n",
        "print(result)"
      ],
      "execution_count": null,
      "outputs": [
        {
          "output_type": "stream",
          "text": [
            "['ATTATAT', 'AAATTATA']\n"
          ],
          "name": "stdout"
        }
      ]
    },
    {
      "cell_type": "code",
      "metadata": {
        "colab": {
          "base_uri": "https://localhost:8080/"
        },
        "id": "XBMFQkCEXBTS",
        "outputId": "89ca18c8-adf8-4e0b-ae17-8e7b3af1990e"
      },
      "source": [
        "#SPLITTING A STRING USING A REGULAR EXPRESSION\n",
        "#Occasionally it can be useful to split a string using a regular expression pattern as the delimiter. The normal string split() method doesn't allow this, but the re module has a split() function of its own that takes a regular expression pattern as an argument. The first argument is the pattern, the second argument is the string to be split.\n",
        "#Imagine we have a consensus DNA sequence that contains ambiguity codes, and we want to extract all runs of contiguous unambiguous bases. We need to split the DNA string wherever we see a base that isn't A, T, G or C:\n",
        "dna = \"ACTNGCATRGCTACGTYACGATSCGAWTCG\"\n",
        "runs = re.split(r\"[^ATGC]\", dna)\n",
        "print(runs)\n"
      ],
      "execution_count": null,
      "outputs": [
        {
          "output_type": "stream",
          "text": [
            "['ACT', 'GCAT', 'GCTACGT', 'ACGAT', 'CGA', 'TCG']\n"
          ],
          "name": "stdout"
        }
      ]
    },
    {
      "cell_type": "code",
      "metadata": {
        "colab": {
          "base_uri": "https://localhost:8080/"
        },
        "id": "3TYHKZobX3Vt",
        "outputId": "0cb674dd-2445-4c2c-cc8c-98fb752dd7f6"
      },
      "source": [
        "#One possible way round this is to store the values in a list. Let's look at an example involving dinucleotides. If we create a list of the 16 possible dinucleotides we can iterate over it, calculate the count for each one, and store all the counts in a list. Take a look at the code – the list of dinucleotides is quite long so it's been split over four lines to make it easier to read:\n",
        "dna = \"ATGATCGATCGAGTGA\"\n",
        "dinucleotides = ['AA','AT','AG','AC',\n",
        "                 'TA','TT','TG','TC',\n",
        "                 'GA','GT','GG','GC',\n",
        "                 'CA','CT','CG','CC']\n",
        "all_counts = []\n",
        "for dinucleotide in dinucleotides:\n",
        "    count = dna.count(dinucleotide)\n",
        "    print(\"count is \" + str(count) + \" for \" + dinucleotide)\n",
        "    all_counts.append(count)\n",
        "print(all_counts)"
      ],
      "execution_count": null,
      "outputs": [
        {
          "output_type": "stream",
          "text": [
            "count is 0 for AA\n",
            "count is 3 for AT\n",
            "count is 1 for AG\n",
            "count is 0 for AC\n",
            "count is 0 for TA\n",
            "count is 0 for TT\n",
            "count is 2 for TG\n",
            "count is 2 for TC\n",
            "count is 4 for GA\n",
            "count is 1 for GT\n",
            "count is 0 for GG\n",
            "count is 0 for GC\n",
            "count is 0 for CA\n",
            "count is 0 for CT\n",
            "count is 2 for CG\n",
            "count is 0 for CC\n",
            "[0, 3, 1, 0, 0, 0, 2, 2, 4, 1, 0, 0, 0, 0, 2, 0]\n"
          ],
          "name": "stdout"
        }
      ]
    },
    {
      "cell_type": "code",
      "metadata": {
        "colab": {
          "base_uri": "https://localhost:8080/"
        },
        "id": "mUyQgxw-ZKuN",
        "outputId": "9920b259-edb9-4fc5-c483-466b3568ad3d"
      },
      "source": [
        "dataset = 'TCGCGGTCATCTGGGTTATTCTGTTCGGGCAGGTAATTTAGCCCTCGCGAATTGTTTCAATGCAATGGTACTATGACCCCGAATTACCCGGAGAATGTGAGACCGAGAGCGCAGACATCTTTCCGGAGAATACGGCTTGAGATGTGTAGTCAGGATTGTTCCTGTATGTTGTTGTACCCCTACTTTGGCCACGTCCTCTTTCGAAGCGATGTTACTCCCTGAGGCGGGTTAAAGCAGGGTGCCGCTTGCCCTCTTCTAAGGAGGCACCCCATTGAGAGGAGTCGATTGACCGTTATGACTCCCACTCGCTATAGGCCAACTCCATTGTGCGGACATTGGATTCAGAGGTGGGATATCGTTTTCGTTACTGCGATGCGATGGCGCTACCAGACTGCTCGAGTATACTCGATTTGGCTGTTGGCGTTGAGCGTTGTACCGTGAGGTCCTCGGACCTTCAGTAAGAATGCTACCGCCGGGTTAGATCATTCGATCGGTGTCTAGGAGACACAAACGTCCATTCCCCTTTCACCGAGAGATCGCCGGTCCATTCCCTTTCAGCGCGGGCTAAAGGAGCCTAGTATGAGACAGTTGCGGCTCCGAATGGAGCTCCGCGCCATGATAATGAGTCAACCCTGAGAGAGGAACAGGCGGGTCTGCATTAGAACATTACGAGAAGCCACTAGAATCGGACCGGTGATGGAAGAATGACTACACGGCTAACGACGTAAAGACTCACGCCGTTCAGCAAGCTGCACTATCCCAAGGGGTGAGAGAATAACAATAACAACATCACAGTCGTGCAGGCCGACAAAACCTTTATGTACGGCACGACTGTACTCTATAAAGCCCTTTGTGACCACCTCCCACTACACGAG'\n",
        "\n",
        "a = dataset.count('A')\n",
        "c = dataset.count('C')\n",
        "g = dataset.count('G')\n",
        "t = dataset.count('T')\n",
        "\n",
        "print(a, c, g, t)"
      ],
      "execution_count": null,
      "outputs": [
        {
          "output_type": "stream",
          "text": [
            "211 222 231 211\n"
          ],
          "name": "stdout"
        }
      ]
    },
    {
      "cell_type": "code",
      "metadata": {
        "colab": {
          "base_uri": "https://localhost:8080/"
        },
        "id": "W4dKEUTCa0Nc",
        "outputId": "d5521624-5a55-4c14-ab50-bba0ea2c910c"
      },
      "source": [
        "protein = \"vlspadktnv\"\n",
        "# count amino acid residues\n",
        "valine_count = protein.count('v')\n",
        "lsp_count = protein.count('lsp')\n",
        "tryptophan_count = protein.count('w')\n",
        "\n",
        "# now print the counts\n",
        "print(\"valines: \" + str(valine_count))\n",
        "print(\"lsp: \" + str(lsp_count))\n",
        "print(\"tryptophans: \" + str(tryptophan_count))\n",
        "  "
      ],
      "execution_count": null,
      "outputs": [
        {
          "output_type": "stream",
          "text": [
            "valines: 2\n",
            "lsp: 1\n",
            "tryptophans: 0\n"
          ],
          "name": "stdout"
        }
      ]
    },
    {
      "cell_type": "code",
      "metadata": {
        "colab": {
          "base_uri": "https://localhost:8080/"
        },
        "id": "1jLRQNHBbgWA",
        "outputId": "a937cc23-ea48-4cc2-f4cc-189f919d23cc"
      },
      "source": [
        "my_dna = \"ACTGATCGATTACGTATAGTATTTGCTATCATACATATATATCGATGCGTTCAT\"\n",
        "replacement1 = my_dna.replace('A', 't')\n",
        "print(replacement1)\n",
        "replacement2 = replacement1.replace('T', 'a')\n",
        "print(replacement2)\n",
        "replacement3 = replacement2.replace('C', 'g')\n",
        "print(replacement3)\n",
        "replacement4 = replacement3.replace('G', 'c')\n",
        "print(replacement4)\n",
        "print(replacement4.upper())\n"
      ],
      "execution_count": null,
      "outputs": [
        {
          "output_type": "stream",
          "text": [
            "tCTGtTCGtTTtCGTtTtGTtTTTGCTtTCtTtCtTtTtTtTCGtTGCGTTCtT\n",
            "tCaGtaCGtaatCGatatGataaaGCataCtatCtatatataCGtaGCGaaCta\n",
            "tgaGtagGtaatgGatatGataaaGgatagtatgtatatatagGtaGgGaagta\n",
            "tgactagctaatgcatatcataaacgatagtatgtatatatagctacgcaagta\n",
            "TGACTAGCTAATGCATATCATAAACGATAGTATGTATATATAGCTACGCAAGTA\n"
          ],
          "name": "stdout"
        }
      ]
    },
    {
      "cell_type": "code",
      "metadata": {
        "colab": {
          "base_uri": "https://localhost:8080/"
        },
        "id": "NMVghRRtbpk_",
        "outputId": "86519427-6d60-4872-911b-1d588333944c"
      },
      "source": [
        "my_dna = \"ACTGATCGATTACGTATAGTAGAATTCTATCATACATATATATCGATGCGTTCAT\"\n",
        "frag1_length = my_dna.find(\"GAATTC\") + 1\n",
        "frag2_length = len(my_dna) - frag1_length\n",
        "print(\"length of fragment one is \" + str(frag1_length))\n",
        "print(\"length of fragment two is \" + str(frag2_length))\n"
      ],
      "execution_count": null,
      "outputs": [
        {
          "output_type": "stream",
          "text": [
            "length of fragment one is 22\n",
            "length of fragment two is 33\n"
          ],
          "name": "stdout"
        }
      ]
    },
    {
      "cell_type": "code",
      "metadata": {
        "colab": {
          "base_uri": "https://localhost:8080/"
        },
        "id": "bgvhhcd2bwDK",
        "outputId": "b3c55f82-4247-42cc-d0bc-17041f0a6cf3"
      },
      "source": [
        "my_dna = \"ATCGATCGATCGATCGACTGACTAGTCATAGCTATGCATGTAGCTACTCGATCGATCGATCGATCGATCGATCGATCGATCGATCATGCTATCATCGATCGATATCGATGCATCGACTACTAT\"\n",
        "exon1 = my_dna[0:64]\n",
        "exon2 = my_dna[91:]\n",
        "print(exon1 + exon2)\n"
      ],
      "execution_count": null,
      "outputs": [
        {
          "output_type": "stream",
          "text": [
            "ATCGATCGATCGATCGACTGACTAGTCATAGCTATGCATGTAGCTACTCGATCGATCGATCGATTCATCGATCGATATCGATGCATCGACTACTAT\n"
          ],
          "name": "stdout"
        }
      ]
    },
    {
      "cell_type": "code",
      "metadata": {
        "colab": {
          "base_uri": "https://localhost:8080/"
        },
        "id": "PsJ--6Ulb3S1",
        "outputId": "cecb5cc2-339f-4141-cb96-2fef376a242d"
      },
      "source": [
        "from __future__ import division\n",
        "my_dna = \"ATCGATCGATCGATCGACTGACTAGTCATAGCTATGCATGTAGCTACTCGATCGATCGATCGATCGATCGATCGATCGATCGATCATGCTATCATCGATCGATATCGATGCATCGACTACTAT\"\n",
        "exon1 = my_dna[0:64]\n",
        "exon2 = my_dna[91:]\n",
        "coding_length = len(exon1 + exon2)\n",
        "total_length = len(my_dna)\n",
        "print(100 * coding_length / total_length)\n"
      ],
      "execution_count": null,
      "outputs": [
        {
          "output_type": "stream",
          "text": [
            "78.04878048780488\n"
          ],
          "name": "stdout"
        }
      ]
    },
    {
      "cell_type": "code",
      "metadata": {
        "colab": {
          "base_uri": "https://localhost:8080/"
        },
        "id": "NZkw27sncLp6",
        "outputId": "c3c25410-d19a-4171-c2b1-f23404bd3109"
      },
      "source": [
        "dna = \"AATGATGAACGAC\"\n",
        "dinucleotides = ['AA','AT','AG','AC',\n",
        "                 'TA','TT','TG','TC',\n",
        "                 'GA','GT','GG','GC',\n",
        "                  'CA','CT','CG','CT']\n",
        "all_counts = []\n",
        "for dinucleotide in dinucleotides:\n",
        "    count = dna.count(dinucleotide)\n",
        "    print(\"count is \" + str(count) + \" for \" + dinucleotide)\n",
        "    all_counts.append(count)\n",
        "print(all_counts)\n"
      ],
      "execution_count": null,
      "outputs": [
        {
          "output_type": "stream",
          "text": [
            "count is 2 for AA\n",
            "count is 2 for AT\n",
            "count is 0 for AG\n",
            "count is 2 for AC\n",
            "count is 0 for TA\n",
            "count is 0 for TT\n",
            "count is 2 for TG\n",
            "count is 0 for TC\n",
            "count is 3 for GA\n",
            "count is 0 for GT\n",
            "count is 0 for GG\n",
            "count is 0 for GC\n",
            "count is 0 for CA\n",
            "count is 0 for CT\n",
            "count is 1 for CG\n",
            "count is 0 for CT\n",
            "[2, 2, 0, 2, 0, 0, 2, 0, 3, 0, 0, 0, 0, 0, 1, 0]\n"
          ],
          "name": "stdout"
        }
      ]
    },
    {
      "cell_type": "code",
      "metadata": {
        "id": "MxT7k3nJcYl2"
      },
      "source": [
        "gencode = {\n",
        "    'ATA':'I', 'ATC':'I', 'ATT':'I', 'ATG':'M',\n",
        "    'ACA':'T', 'ACC':'T', 'ACG':'T', 'ACT':'T',\n",
        "    'AAC':'N', 'AAT':'N', 'AAA':'K', 'AAG':'K',\n",
        "    'AGC':'S', 'AGT':'S', 'AGA':'R', 'AGG':'R',\n",
        "    'CTA':'L', 'CTC':'L', 'CTG':'L', 'CTT':'L',\n",
        "    'CCA':'P', 'CCC':'P', 'CCG':'P', 'CCT':'P',\n",
        "    'CAC':'H', 'CAT':'H', 'CAA':'Q', 'CAG':'Q',\n",
        "    'CGA':'R', 'CGC':'R', 'CGG':'R', 'CGT':'R',\n",
        "    'GTA':'V', 'GTC':'V', 'GTG':'V', 'GTT':'V',\n",
        "    'GCA':'A', 'GCC':'A', 'GCG':'A', 'GCT':'A',\n",
        "    'GAC':'D', 'GAT':'D', 'GAA':'E', 'GAG':'E',\n",
        "    'GGA':'G', 'GGC':'G', 'GGG':'G', 'GGT':'G',\n",
        "    'TCA':'S', 'TCC':'S', 'TCG':'S', 'TCT':'S',\n",
        "    'TTC':'F', 'TTT':'F', 'TTA':'L', 'TTG':'L',\n",
        "    'TAC':'Y', 'TAT':'Y', 'TAA':'_', 'TAG':'_',\n",
        "    'TGC':'C', 'TGT':'C', 'TGA':'_', 'TGG':'W'}\n",
        "\n",
        "def translate_dna(dna):\n",
        "    last_codon_start = len(dna) - 2\n",
        "    protein = \"\"\n",
        "    for start in range(0,last_codon_start,3):\n",
        "        codon = dna[start:start+3]\n",
        "        aa = gencode.get(codon, 'X')\n",
        "        protein = protein + aa\n",
        "    return protein\n",
        "\n",
        "# input sequence is easy\n",
        "assert(translate_dna(\"ATGTTCGGT\")) == \"MFG\"\n",
        "\n",
        "# input sequence has incomplete codons at the end\n",
        "assert(translate_dna(\"ATCGATCGAT\")) == \"IDR\"\n",
        "\n",
        "# input sequence contains N\n",
        "assert(translate_dna(\"ACGANCGAT\")) == \"TXD\" \n"
      ],
      "execution_count": null,
      "outputs": []
    },
    {
      "cell_type": "code",
      "metadata": {
        "colab": {
          "base_uri": "https://localhost:8080/"
        },
        "id": "FQd_MfFucjgW",
        "outputId": "a9394b32-8d3f-4078-a206-00a13e7da573"
      },
      "source": [
        "import re\n",
        "dna = \"ATCGCGAATTCAC\"\n",
        "if re.search(r\"GAATTC\", dna):\n",
        "\tprint(\"restriction site found!\")\n"
      ],
      "execution_count": null,
      "outputs": [
        {
          "output_type": "stream",
          "text": [
            "restriction site found!\n"
          ],
          "name": "stdout"
        }
      ]
    },
    {
      "cell_type": "code",
      "metadata": {
        "colab": {
          "base_uri": "https://localhost:8080/"
        },
        "id": "fsaS1REMcqFJ",
        "outputId": "6538c21b-7ea8-4962-94e2-af17c26c0bcd"
      },
      "source": [
        "protein = \"vlspadktnv\" \n",
        "print(str(protein.find('p'))) \n",
        "print(str(protein.find('kt'))) \n",
        "print(str(protein.find('w')))\n"
      ],
      "execution_count": null,
      "outputs": [
        {
          "output_type": "stream",
          "text": [
            "3\n",
            "6\n",
            "-1\n"
          ],
          "name": "stdout"
        }
      ]
    },
    {
      "cell_type": "code",
      "metadata": {
        "colab": {
          "base_uri": "https://localhost:8080/"
        },
        "id": "0nM7WkqXc0Ks",
        "outputId": "48cb8aee-1fcc-4f65-a734-0341e5acd15b"
      },
      "source": [
        "for number in range(6):\n",
        "    print(number)\n"
      ],
      "execution_count": null,
      "outputs": [
        {
          "output_type": "stream",
          "text": [
            "0\n",
            "1\n",
            "2\n",
            "3\n",
            "4\n",
            "5\n"
          ],
          "name": "stdout"
        }
      ]
    },
    {
      "cell_type": "code",
      "metadata": {
        "colab": {
          "base_uri": "https://localhost:8080/"
        },
        "id": "IFkUqXK_c4Ur",
        "outputId": "c8bfcfda-533d-43a4-9868-6a3e7cbb1123"
      },
      "source": [
        "import re\n",
        "dna = \"ACTNGCATRGCTACGTYACGATSCGAWTCG\"\n",
        "runs = re.split(r\"[^ATGC]\", dna)\n",
        "print(runs)\n"
      ],
      "execution_count": null,
      "outputs": [
        {
          "output_type": "stream",
          "text": [
            "['ACT', 'GCAT', 'GCTACGT', 'ACGAT', 'CGA', 'TCG']\n"
          ],
          "name": "stdout"
        }
      ]
    },
    {
      "cell_type": "code",
      "metadata": {
        "id": "Lixpn8U5c8rm"
      },
      "source": [
        "file1 = open(\"one.txt\", \"w\")\n",
        "file2 = open(\"two.txt\", \"w\")\n",
        "accs = ['ab56', 'bh84', 'hv76', 'ay93', 'ap97', 'bd72']\n",
        "for accession in accs:\n",
        "\tif accession.startswith('a'):\n",
        "\t\tfile1.write(accession + \"\\n\")\n",
        "\telse:\n",
        "\t\tfile2.write(accession + \"\\n\")\n"
      ],
      "execution_count": null,
      "outputs": []
    },
    {
      "cell_type": "code",
      "metadata": {
        "id": "DKMUkxbCdDIg"
      },
      "source": [
        "from __future__ import division\n",
        "\n",
        "def get_aa_percentage(protein, aa):\n",
        "\tprotein = protein.upper()\n",
        "\taa = aa.upper()\n",
        "\taa_count = protein.count(aa)\n",
        "\tprotein_length = len(protein)\n",
        "\tpercentage = aa_count * 100 / protein_length\n",
        "\treturn percentage\n",
        "\n",
        "assert get_aa_percentage(\"MSRSLLLRFLLFLLLLPPLP\", \"M\") == 5\n",
        "assert get_aa_percentage(\"MSRSLLLRFLLFLLLLPPLP\", \"r\") == 10\n",
        "assert get_aa_percentage(\"msrslllrfllfllllpplp\", \"L\") == 50\n",
        "assert get_aa_percentage(\"MSRSLLLRFLLFLLLLPPLP\", \"Y\") == 0\n"
      ],
      "execution_count": null,
      "outputs": []
    },
    {
      "cell_type": "code",
      "metadata": {
        "colab": {
          "base_uri": "https://localhost:8080/"
        },
        "id": "bQWyAC1VdRGO",
        "outputId": "aa19f31e-3cde-40c1-8292-98587c9d4bdb"
      },
      "source": [
        "from __future__ import division\n",
        "\n",
        "def get_at_content(dna): \n",
        "    length = len(dna) \n",
        "    a_count = dna.count('A') \n",
        "    t_count = dna.count('T') \n",
        "    at_content = (a_count + t_count) / length \n",
        "    return at_content \n",
        "\n",
        "my_at_content = get_at_content(\"ATGCGCGATCGATCGAATCG\")\n",
        "print(str(my_at_content))\n",
        "print(get_at_content(\"ATGCATGCAACTGTAGC\"))\n",
        "print(get_at_content(\"aactgtagctagctagcagcgta\"))\n"
      ],
      "execution_count": null,
      "outputs": [
        {
          "output_type": "stream",
          "text": [
            "0.45\n",
            "0.5294117647058824\n",
            "0.0\n"
          ],
          "name": "stdout"
        }
      ]
    },
    {
      "cell_type": "code",
      "metadata": {
        "colab": {
          "base_uri": "https://localhost:8080/"
        },
        "id": "-BdG-gVydY_x",
        "outputId": "d4933fa2-f664-463c-c77d-4e312c4eca8a"
      },
      "source": [
        "my_dna = \"ACTGATCGATTACGTATAGTATTTGCTATCATACATATATATCGATGCGTTCAT\"\n",
        "replacement1 = my_dna.replace('A', 't')\n",
        "print(replacement1)\n",
        "replacement2 = replacement1.replace('T', 'a')\n",
        "print(replacement2)\n",
        "replacement3 = replacement2.replace('C', 'g')\n",
        "print(replacement3)\n",
        "replacement4 = replacement3.replace('G', 'c')\n",
        "print(replacement4)\n",
        "print(replacement4.upper())\n"
      ],
      "execution_count": null,
      "outputs": [
        {
          "output_type": "stream",
          "text": [
            "tCTGtTCGtTTtCGTtTtGTtTTTGCTtTCtTtCtTtTtTtTCGtTGCGTTCtT\n",
            "tCaGtaCGtaatCGatatGataaaGCataCtatCtatatataCGtaGCGaaCta\n",
            "tgaGtagGtaatgGatatGataaaGgatagtatgtatatatagGtaGgGaagta\n",
            "tgactagctaatgcatatcataaacgatagtatgtatatatagctacgcaagta\n",
            "TGACTAGCTAATGCATATCATAAACGATAGTATGTATATATAGCTACGCAAGTA\n"
          ],
          "name": "stdout"
        }
      ]
    },
    {
      "cell_type": "code",
      "metadata": {
        "id": "ZoyteRFodgQ3"
      },
      "source": [
        "gencode = {\n",
        "    'ATA':'I', 'ATC':'I', 'ATT':'I', 'ATG':'M',\n",
        "    'ACA':'T', 'ACC':'T', 'ACG':'T', 'ACT':'T',\n",
        "    'AAC':'N', 'AAT':'N', 'AAA':'K', 'AAG':'K',\n",
        "    'AGC':'S', 'AGT':'S', 'AGA':'R', 'AGG':'R',\n",
        "    'CTA':'L', 'CTC':'L', 'CTG':'L', 'CTT':'L',\n",
        "    'CCA':'P', 'CCC':'P', 'CCG':'P', 'CCT':'P',\n",
        "    'CAC':'H', 'CAT':'H', 'CAA':'Q', 'CAG':'Q',\n",
        "    'CGA':'R', 'CGC':'R', 'CGG':'R', 'CGT':'R',\n",
        "    'GTA':'V', 'GTC':'V', 'GTG':'V', 'GTT':'V',\n",
        "    'GCA':'A', 'GCC':'A', 'GCG':'A', 'GCT':'A',\n",
        "    'GAC':'D', 'GAT':'D', 'GAA':'E', 'GAG':'E',\n",
        "    'GGA':'G', 'GGC':'G', 'GGG':'G', 'GGT':'G',\n",
        "    'TCA':'S', 'TCC':'S', 'TCG':'S', 'TCT':'S',\n",
        "    'TTC':'F', 'TTT':'F', 'TTA':'L', 'TTG':'L',\n",
        "    'TAC':'Y', 'TAT':'Y', 'TAA':'_', 'TAG':'_',\n",
        "    'TGC':'C', 'TGT':'C', 'TGA':'_', 'TGG':'W'}\n",
        "\n",
        "def translate_dna(dna):\n",
        "    last_codon_start = len(dna) - 2\n",
        "    protein = \"\"\n",
        "    for start in range(0,last_codon_start,3):\n",
        "        codon = dna[start:start+3]\n",
        "        aa = gencode.get(codon, 'X')\n",
        "        protein = protein + aa\n",
        "    return protein\n",
        "\n",
        "# input sequence is easy\n",
        "assert(translate_dna(\"ATGTTCGGT\")) == \"MFG\"\n",
        "\n",
        "# input sequence has incomplete codons at the end\n",
        "assert(translate_dna(\"ATCGATCGAT\")) == \"IDR\"\n",
        "\n",
        "# input sequence contains N\n",
        "assert(translate_dna(\"ACGANCGAT\")) == \"TXD\" \n"
      ],
      "execution_count": null,
      "outputs": []
    },
    {
      "cell_type": "code",
      "metadata": {
        "colab": {
          "base_uri": "https://localhost:8080/"
        },
        "id": "VmIf6AH4dsez",
        "outputId": "e841f7d7-861e-4458-e720-ea933e32c187"
      },
      "source": [
        "import re\n",
        "dna = \"CGATNCGGAACGATC\"\n",
        "m = re.search(r\"[^ATGC]\", dna)\n",
        "\n",
        "# m is now a match object\n",
        "if m:\n",
        "    print(\"ambiguous base found!\")\n",
        "    ambig = m.group()\n",
        "    print(\"the base is \" + ambig)"
      ],
      "execution_count": null,
      "outputs": [
        {
          "output_type": "stream",
          "text": [
            "ambiguous base found!\n",
            "the base is N\n"
          ],
          "name": "stdout"
        }
      ]
    },
    {
      "cell_type": "code",
      "metadata": {
        "colab": {
          "base_uri": "https://localhost:8080/"
        },
        "id": "5tOEqD-GdvwH",
        "outputId": "e58be4c6-fc79-4ff7-ee29-6f9a11429deb"
      },
      "source": [
        "import re\n",
        "dna = \"CTGCATTATATCGTACGAAATTATACGCGCG!\"\n",
        "\n",
        "result = re.findall(r\"[AT]{6,}\", dna)\n",
        "\n",
        "print(result)"
      ],
      "execution_count": null,
      "outputs": [
        {
          "output_type": "stream",
          "text": [
            "['ATTATAT', 'AAATTATA']\n"
          ],
          "name": "stdout"
        }
      ]
    },
    {
      "cell_type": "code",
      "metadata": {
        "colab": {
          "base_uri": "https://localhost:8080/"
        },
        "id": "8Y3YqiItd2Fb",
        "outputId": "6f5e6a25-4fd7-4503-eb6b-a72acef10d72"
      },
      "source": [
        "import re\n",
        "\n",
        "dna = \"CGCTCNTAGATGCGCRATGACTGCAYTGC\"\n",
        "\n",
        "matches = re.finditer(r\"[^ATGC]\", dna)\n",
        "for m in matches:\n",
        "\tbase = m.group()\n",
        "\tpos  = m.start()\n",
        "\tprint(base + \" found at position \" + str(pos))\n",
        "print(matches)"
      ],
      "execution_count": null,
      "outputs": [
        {
          "output_type": "stream",
          "text": [
            "N found at position 5\n",
            "R found at position 15\n",
            "Y found at position 25\n",
            "<callable_iterator object at 0x7f70a3b9f780>\n"
          ],
          "name": "stdout"
        }
      ]
    },
    {
      "cell_type": "code",
      "metadata": {
        "colab": {
          "base_uri": "https://localhost:8080/"
        },
        "id": "FLp8PGh8eAKJ",
        "outputId": "13179a8b-77f7-4dd6-e28d-16bc4dba9b3a"
      },
      "source": [
        "import re\n",
        "\n",
        "dna = \"CGATNCGGAACGATC\"\n",
        "m = re.search(r\"[^ATGC]\", dna)\n",
        "\n",
        "if m:\n",
        "    print(\"ambiguous base found!\")\n",
        "    print(\"at position \" + str(m.start()))"
      ],
      "execution_count": null,
      "outputs": [
        {
          "output_type": "stream",
          "text": [
            "ambiguous base found!\n",
            "at position 4\n"
          ],
          "name": "stdout"
        }
      ]
    },
    {
      "cell_type": "code",
      "metadata": {
        "colab": {
          "base_uri": "https://localhost:8080/"
        },
        "id": "DXdlT5G5eH94",
        "outputId": "cc6ca3e3-d34e-4952-ed24-c4320a2f66a8"
      },
      "source": [
        "# open the file\n",
        "my_file = open(\"dna.txt\")\n",
        "# read the contents\n",
        "my_dna = my_file.read()\n",
        "# calculate the length\n",
        "dna_length = len(my_dna)\n",
        "# print the output\n",
        "print(\"sequence is \" + my_dna +  \" and length is \" + str(dna_length))\n"
      ],
      "execution_count": null,
      "outputs": [
        {
          "output_type": "stream",
          "text": [
            "sequence is ACTGTACGTGCACTGATC\n",
            " and length is 19\n"
          ],
          "name": "stdout"
        }
      ]
    },
    {
      "cell_type": "code",
      "metadata": {
        "colab": {
          "base_uri": "https://localhost:8080/"
        },
        "id": "kMklA8nIeRCU",
        "outputId": "b2f5e01c-1735-4058-f3fd-765c61c0ad64"
      },
      "source": [
        "protein = \"vlspadktnv\"\n",
        "# replace valine with tyrosine\n",
        "print(protein.replace(\"v\", \"y\"))\n",
        "# we can replace more than one character\n",
        "print(protein.replace(\"vls\", \"ymt\"))\n",
        "# the original variable is not affected\n",
        "print(protein)\n"
      ],
      "execution_count": null,
      "outputs": [
        {
          "output_type": "stream",
          "text": [
            "ylspadktny\n",
            "ymtpadktnv\n",
            "vlspadktnv\n"
          ],
          "name": "stdout"
        }
      ]
    },
    {
      "cell_type": "code",
      "metadata": {
        "colab": {
          "base_uri": "https://localhost:8080/"
        },
        "id": "aAx0gCSLeW2r",
        "outputId": "90e05979-6cad-471b-c753-d2357a567ba0"
      },
      "source": [
        "ranks = [\"kingdom\",\"phylum\", \"class\", \"order\", \"family\"]\n",
        "print(\"at the start : \" + str(ranks))\n",
        "ranks.reverse()\n",
        "print(\"after reversing : \" + str(ranks))\n",
        "ranks.sort()\n",
        "print(\"after sorting : \" + str(ranks))\n"
      ],
      "execution_count": null,
      "outputs": [
        {
          "output_type": "stream",
          "text": [
            "at the start : ['kingdom', 'phylum', 'class', 'order', 'family']\n",
            "after reversing : ['family', 'order', 'class', 'phylum', 'kingdom']\n",
            "after sorting : ['class', 'family', 'kingdom', 'order', 'phylum']\n"
          ],
          "name": "stdout"
        }
      ]
    },
    {
      "cell_type": "code",
      "metadata": {
        "id": "mS6HUXn-eg5Z",
        "colab": {
          "base_uri": "https://localhost:8080/"
        },
        "outputId": "3bf2fc32-30a0-47a9-fed1-b38a9653a939"
      },
      "source": [
        "from __future__ import division\n",
        "\n",
        "def get_at_content(dna, sig_figs): \n",
        "    length = len(dna) \n",
        "    a_count = dna.upper().count('A') \n",
        "    t_count = dna.upper().count('T') \n",
        "    at_content = (a_count + t_count) / length \n",
        "    return round(at_content, sig_figs) \n",
        "\n",
        "test_dna = \"ATGCATGCAACTGTAGC\"\n",
        "print(get_at_content(test_dna, 1))\n",
        "print(get_at_content(test_dna, 2))\n",
        "print(get_at_content(test_dna, 3))\n"
      ],
      "execution_count": null,
      "outputs": [
        {
          "output_type": "stream",
          "text": [
            "0.5\n",
            "0.53\n",
            "0.529\n"
          ],
          "name": "stdout"
        }
      ]
    },
    {
      "cell_type": "code",
      "metadata": {
        "id": "saBCLw7wHLzE"
      },
      "source": [
        "from __future__ import division\n",
        "\n",
        "def get_aa_percentage(protein, aa):\n",
        "\tprotein = protein.upper()\n",
        "\taa = aa.upper()\n",
        "\taa_count = protein.count(aa)\n",
        "\tprotein_length = len(protein)\n",
        "\tpercentage = aa_count * 100 / protein_length\n",
        "\treturn percentage\n",
        "\n",
        "assert get_aa_percentage(\"MSRSLLLRFLLFLLLLPPLP\", \"M\") == 5\n",
        "assert get_aa_percentage(\"MSRSLLLRFLLFLLLLPPLP\", \"r\") == 10\n",
        "assert get_aa_percentage(\"msrslllrfllfllllpplp\", \"L\") == 50\n",
        "assert get_aa_percentage(\"MSRSLLLRFLLFLLLLPPLP\", \"Y\") == 0\n"
      ],
      "execution_count": null,
      "outputs": []
    },
    {
      "cell_type": "code",
      "metadata": {
        "colab": {
          "base_uri": "https://localhost:8080/"
        },
        "id": "CWGQFN0bHi1x",
        "outputId": "4abfa465-c5b4-43e8-a5b5-e36e010199e2"
      },
      "source": [
        "dna = \"AATGATGAACGAC\"\n",
        "dinucleotides = ['AA','AT','AG','AC',\n",
        "                 'TA','TT','TG','TC',\n",
        "                 'GA','GT','GG','GC',\n",
        "                  'CA','CT','CG','CT']\n",
        "all_counts = []\n",
        "for dinucleotide in dinucleotides:\n",
        "    count = dna.count(dinucleotide)\n",
        "    print(\"count is \" + str(count) + \" for \" + dinucleotide)\n",
        "    all_counts.append(count)\n",
        "print(all_counts)\n"
      ],
      "execution_count": null,
      "outputs": [
        {
          "output_type": "stream",
          "text": [
            "count is 2 for AA\n",
            "count is 2 for AT\n",
            "count is 0 for AG\n",
            "count is 2 for AC\n",
            "count is 0 for TA\n",
            "count is 0 for TT\n",
            "count is 2 for TG\n",
            "count is 0 for TC\n",
            "count is 3 for GA\n",
            "count is 0 for GT\n",
            "count is 0 for GG\n",
            "count is 0 for GC\n",
            "count is 0 for CA\n",
            "count is 0 for CT\n",
            "count is 1 for CG\n",
            "count is 0 for CT\n",
            "[2, 2, 0, 2, 0, 0, 2, 0, 3, 0, 0, 0, 0, 0, 1, 0]\n"
          ],
          "name": "stdout"
        }
      ]
    },
    {
      "cell_type": "code",
      "metadata": {
        "id": "tdz9d-NzHwv5",
        "colab": {
          "base_uri": "https://localhost:8080/"
        },
        "outputId": "13bef794-84e5-4731-e71c-3cd20a39ea68"
      },
      "source": [
        "my_dna = \"ATCGATCGATCGATCGACTGACTAGTCATAGCTATGCATGTAGCTACTCGATCGATCGATCGATCGATCGATCGATCGATCGATCATGCTATCATCGATCGATATCGATGCATCGACTACTAT\"\n",
        "exon1 = my_dna[0:64]\n",
        "exon2 = my_dna[91:]\n",
        "print(exon1 + exon2)\n"
      ],
      "execution_count": null,
      "outputs": [
        {
          "output_type": "stream",
          "text": [
            "ATCGATCGATCGATCGACTGACTAGTCATAGCTATGCATGTAGCTACTCGATCGATCGATCGATTCATCGATCGATATCGATGCATCGACTACTAT\n"
          ],
          "name": "stdout"
        }
      ]
    }
  ]
}